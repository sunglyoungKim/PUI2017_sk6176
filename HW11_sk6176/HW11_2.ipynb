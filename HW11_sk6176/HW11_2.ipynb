{
 "cells": [
  {
   "cell_type": "code",
   "execution_count": 1,
   "metadata": {
    "ExecuteTime": {
     "end_time": "2017-12-07T09:28:24.518389",
     "start_time": "2017-12-07T09:28:23.289616"
    },
    "run_control": {
     "frozen": false,
     "read_only": false
    }
   },
   "outputs": [
    {
     "name": "stdout",
     "output_type": "stream",
     "text": [
      "Populating the interactive namespace from numpy and matplotlib\n"
     ]
    }
   ],
   "source": [
    "import numpy as np\n",
    "import pylab as pl\n",
    "from IPython.display import display, clear_output\n",
    "import time\n",
    "%pylab inline"
   ]
  },
  {
   "cell_type": "code",
   "execution_count": 2,
   "metadata": {
    "ExecuteTime": {
     "end_time": "2017-12-07T09:28:52.712437",
     "start_time": "2017-12-07T09:28:52.707765"
    },
    "collapsed": true,
    "run_control": {
     "frozen": false,
     "read_only": false
    }
   },
   "outputs": [],
   "source": [
    "np.random.seed(333)"
   ]
  },
  {
   "cell_type": "code",
   "execution_count": 3,
   "metadata": {
    "ExecuteTime": {
     "end_time": "2017-12-07T09:28:52.934772",
     "start_time": "2017-12-07T09:28:52.930841"
    },
    "collapsed": true,
    "run_control": {
     "frozen": false,
     "read_only": false
    }
   },
   "outputs": [],
   "source": [
    "random_1 = np.random.randn(2,100)"
   ]
  },
  {
   "cell_type": "code",
   "execution_count": 4,
   "metadata": {
    "ExecuteTime": {
     "end_time": "2017-12-07T09:28:53.144071",
     "start_time": "2017-12-07T09:28:53.135607"
    },
    "run_control": {
     "frozen": false,
     "read_only": false
    }
   },
   "outputs": [
    {
     "data": {
      "text/plain": [
       "(2, 100)"
      ]
     },
     "execution_count": 4,
     "metadata": {},
     "output_type": "execute_result"
    }
   ],
   "source": [
    "random_1.shape"
   ]
  },
  {
   "cell_type": "code",
   "execution_count": 5,
   "metadata": {
    "ExecuteTime": {
     "end_time": "2017-12-07T09:28:53.318811",
     "start_time": "2017-12-07T09:28:53.315682"
    },
    "collapsed": true,
    "run_control": {
     "frozen": false,
     "read_only": false
    }
   },
   "outputs": [],
   "source": [
    "random_2 = np.random.randn(2,100) + 2"
   ]
  },
  {
   "cell_type": "code",
   "execution_count": 6,
   "metadata": {
    "ExecuteTime": {
     "end_time": "2017-12-07T09:28:53.942506",
     "start_time": "2017-12-07T09:28:53.691814"
    },
    "run_control": {
     "frozen": false,
     "read_only": false
    }
   },
   "outputs": [
    {
     "data": {
      "image/png": "[encoded data removed]",
      "text/plain": [
       "<matplotlib.figure.Figure at 0x7f5eddf824d0>"
      ]
     },
     "metadata": {},
     "output_type": "display_data"
    }
   ],
   "source": [
    "pl.plot(random_1[0], random_1[1], '.')\n",
    "pl.plot(random_2[0], random_2[1], '.')\n",
    "pl.xlabel('x')\n",
    "pl.ylabel('y');"
   ]
  },
  {
   "cell_type": "markdown",
   "metadata": {
    "ExecuteTime": {
     "end_time": "2017-12-07T09:28:54.251112",
     "start_time": "2017-12-07T09:28:54.248081"
    },
    "collapsed": true,
    "run_control": {
     "frozen": false,
     "read_only": false
    }
   },
   "source": [
    "# 1. chose the number of clusters \n",
    "nclusters = 2"
   ]
  },
  {
   "cell_type": "code",
   "execution_count": 7,
   "metadata": {
    "ExecuteTime": {
     "end_time": "2017-12-07T09:28:54.766632",
     "start_time": "2017-12-07T09:28:54.761626"
    },
    "collapsed": true,
    "run_control": {
     "frozen": false,
     "read_only": false
    }
   },
   "outputs": [],
   "source": [
    "random_stack = np.hstack([random_1, random_2])"
   ]
  },
  {
   "cell_type": "markdown",
   "metadata": {},
   "source": [
    "# 2. set an initial guess"
   ]
  },
  {
   "cell_type": "code",
   "execution_count": 8,
   "metadata": {
    "ExecuteTime": {
     "end_time": "2017-12-07T09:33:43.077041",
     "start_time": "2017-12-07T09:33:43.069516"
    },
    "collapsed": true,
    "run_control": {
     "frozen": false,
     "read_only": false
    }
   },
   "outputs": [],
   "source": [
    "centers = np.array([[0.,-1.], [0,-2]]) "
   ]
  },
  {
   "cell_type": "code",
   "execution_count": 9,
   "metadata": {
    "ExecuteTime": {
     "end_time": "2017-12-07T09:33:43.879955",
     "start_time": "2017-12-07T09:33:43.661410"
    },
    "run_control": {
     "frozen": false,
     "read_only": false
    }
   },
   "outputs": [
    {
     "data": {
      "image/png": "[encoded data removed]",
      "text/plain": [
       "<matplotlib.figure.Figure at 0x7f5edbe15650>"
      ]
     },
     "metadata": {},
     "output_type": "display_data"
    }
   ],
   "source": [
    "pl.plot(random_1[0], random_1[1], '.')\n",
    "pl.plot(random_2[0], random_2[1], '.')\n",
    "pl.plot(centers[0,0], centers[0,1], '*', ms=10)\n",
    "pl.plot(centers[1,0], centers[1,1], '*', ms=10)\n",
    "pl.xlabel('x')\n",
    "pl.ylabel('y');"
   ]
  },
  {
   "cell_type": "code",
   "execution_count": 10,
   "metadata": {
    "ExecuteTime": {
     "end_time": "2017-12-07T09:33:44.481446",
     "start_time": "2017-12-07T09:33:44.473847"
    },
    "collapsed": true,
    "run_control": {
     "frozen": false,
     "read_only": false
    }
   },
   "outputs": [],
   "source": [
    "#define the distance metric - just Eucledian distance\n",
    "def distmetric(x, y, center):\n",
    "    distmetric = np.sqrt( (x - center[0])**2 + (y - center[1])**2)\n",
    "    return distmetric"
   ]
  },
  {
   "cell_type": "markdown",
   "metadata": {
    "ExecuteTime": {
     "end_time": "2017-12-07T09:33:45.225547",
     "start_time": "2017-12-07T09:33:45.208931"
    },
    "run_control": {
     "frozen": false,
     "marked": false,
     "read_only": false
    }
   },
   "source": [
    "# 3. check for each point which center is closer"
   ]
  },
  {
   "cell_type": "code",
   "execution_count": 11,
   "metadata": {
    "ExecuteTime": {
     "end_time": "2017-12-07T09:33:45.225547",
     "start_time": "2017-12-07T09:33:45.208931"
    },
    "run_control": {
     "frozen": false,
     "marked": false,
     "read_only": false
    }
   },
   "outputs": [],
   "source": [
    "cl1 = distmetric(random_1[0], random_1[1], centers[0]) < distmetric(random_1[0], random_1[1], centers[1])\n",
    "cl2 = distmetric(random_2[0], random_2[1], centers[0]) < distmetric(random_2[0], random_2[1], centers[1])\n"
   ]
  },
  {
   "cell_type": "markdown",
   "metadata": {},
   "source": [
    "# 4. calculate new centers"
   ]
  },
  {
   "cell_type": "code",
   "execution_count": 12,
   "metadata": {},
   "outputs": [
    {
     "name": "stdout",
     "output_type": "stream",
     "text": [
      "('old center\\n', array([[ 0., -1.],\n",
      "       [ 0., -2.]]))\n",
      "('new center\\n', array([[ 0.96972306,  1.06522176],\n",
      "       [ 1.02400655, -2.10176012]]))\n"
     ]
    }
   ],
   "source": [
    "newc = np.array(\n",
    "    [np.hstack([random_1[:, cl1], random_2[:, cl2]]).mean(axis=1), \n",
    "        np.hstack([random_1[:, ~cl1], random_2[:, ~cl2]]).mean(axis=1)])\n",
    "print (\"old center\\n\", centers)\n",
    "print (\"new center\\n\", newc)"
   ]
  },
  {
   "cell_type": "markdown",
   "metadata": {},
   "source": [
    "# Show animation"
   ]
  },
  {
   "cell_type": "code",
   "execution_count": 15,
   "metadata": {
    "scrolled": false
   },
   "outputs": [
    {
     "data": {
      "image/png": "[encoded data removed]",
      "text/plain": [
       "<matplotlib.figure.Figure at 0x7f5edbb0a450>"
      ]
     },
     "metadata": {},
     "output_type": "display_data"
    },
    {
     "data": {
      "image/png": "[encoded data removed]",
      "text/plain": [
       "<matplotlib.figure.Figure at 0x7f5edbb0a450>"
      ]
     },
     "metadata": {},
     "output_type": "display_data"
    }
   ],
   "source": [
    "fig, ax = plt.subplots(1, 1, figsize=(10, 10))\n",
    "Spoints = np.hstack([random_1, random_2])\n",
    "Sclasses = np.hstack([cl1, cl2])\n",
    "ax.scatter(Spoints[0, :], Spoints[1, :], c=Sclasses, s=4)\n",
    "ax.plot(centers[1,0], centers[1,1],'x')\n",
    "ax.plot(centers[-1,1], centers[0,-1],'x')\n",
    "display(fig)\n",
    "\n",
    "for i in xrange(20):\n",
    "    time.sleep(0.3)\n",
    "    clear_output(wait=True)\n",
    "    cl1 = distmetric(random_1[0], random_1[1], newc[0]) \\\n",
    "            < distmetric(random_1[0], random_1[1], newc[1])\n",
    "    cl2 = distmetric(random_2[0], random_2[1], newc[0])\\\n",
    "            < distmetric(random_2[0], random_2[1], newc[1])\n",
    "    Sclasses = np.hstack([cl1, cl2])\n",
    "    ax.clear()\n",
    "    colors = np.array([('orange' if c else 'blue') for c in Sclasses])\n",
    "    ax.scatter(Spoints[0, :], Spoints[1, :], c=colors, s=3)\n",
    "    ax.plot(newc[0,0], newc[0,1],'x', linewidth=4)\n",
    "    ax.plot(newc[1,0], newc[1,1],'x', linewidth=4)\n",
    "    newc = np.array(\n",
    "        [np.hstack([random_1[:, cl1], random_2[:, cl2]]).mean(axis=1),\n",
    "         np.hstack([random_1[:, ~cl1], random_2[:, ~cl2]]).mean(axis=1)])\n",
    "    display(fig)"
   ]
  },
  {
   "cell_type": "code",
   "execution_count": null,
   "metadata": {
    "collapsed": true,
    "run_control": {
     "frozen": false,
     "read_only": false
    }
   },
   "outputs": [],
   "source": []
  }
 ],
 "metadata": {
  "kernelspec": {
   "display_name": "Python 2",
   "language": "python",
   "name": "python2"
  },
  "language_info": {
   "codemirror_mode": {
    "name": "ipython",
    "version": 2
   },
   "file_extension": ".py",
   "mimetype": "text/x-python",
   "name": "python",
   "nbconvert_exporter": "python",
   "pygments_lexer": "ipython2",
   "version": "2.7.12"
  },
  "toc": {
   "colors": {
    "hover_highlight": "#DAA520",
    "running_highlight": "#FF0000",
    "selected_highlight": "#FFD700"
   },
   "moveMenuLeft": true,
   "nav_menu": {
    "height": "11px",
    "width": "251px"
   },
   "navigate_menu": true,
   "number_sections": true,
   "sideBar": true,
   "threshold": 4,
   "toc_cell": false,
   "toc_section_display": "block",
   "toc_window_display": false
  }
 },
 "nbformat": 4,
 "nbformat_minor": 1
}
