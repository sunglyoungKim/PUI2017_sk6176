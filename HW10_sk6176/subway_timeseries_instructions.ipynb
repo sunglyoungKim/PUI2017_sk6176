{
 "cells": [
  {
   "cell_type": "markdown",
   "metadata": {},
   "source": [
    "# TIME SERIES ANALYSIS\n",
    "\n",
    "# Goal: Find outliers, trends and periodicity in the MTA turnstile data\n",
    "    \n",
    "\n",
    "## DATA:\n",
    "MTA subway fares. It is a complete dataset of\n",
    "rides logged by card swipes for 600 Manhattan stations.\n",
    "\n",
    "\n",
    "The data was organized  by Dr. Sina Kashuk at CUSP.\n",
    "You can get it from the github repo (use the download link to download it live in your notebook). \n",
    "It contains 23 different subway card types \n",
    "(e.g. monthly pass, daily pass, Act for Disability pass…) as follows:\n"
   ]
  },
  {
   "cell_type": "code",
   "execution_count": 1,
   "metadata": {},
   "outputs": [],
   "source": [
    "import pylab as pl\n",
    "import numpy as np\n",
    "import pandas as pd\n",
    "import matplotlib.pyplot as plt\n",
    "%matplotlib inline"
   ]
  },
  {
   "cell_type": "code",
   "execution_count": 2,
   "metadata": {},
   "outputs": [
    {
     "data": {
      "image/png": "[encoded data removed]",
      "text/plain": [
       "<IPython.core.display.Image object>"
      ]
     },
     "execution_count": 2,
     "metadata": {},
     "output_type": "execute_result"
    }
   ],
   "source": [
    "from IPython.display import Image\n",
    "Image(filename = \"Ridetypes.png\")"
   ]
  },
  {
   "cell_type": "markdown",
   "metadata": {},
   "source": [
    "## Task 1: \n",
    "### Event detection: Identify the most prominent event. There is a very significant drop (>3-sigma) in all time series.\n",
    "### Identify it, figure out the date (you know when the data starts and what the cadence is) and figure out what it is due to.\n"
   ]
  },
  {
   "cell_type": "code",
   "execution_count": 3,
   "metadata": {},
   "outputs": [],
   "source": [
    "mtaRides = np.load(\"MTA_Fare.npy\")"
   ]
  },
  {
   "cell_type": "markdown",
   "metadata": {},
   "source": [
    "## Each time series (per station, per ticket type) contains the number of swipes per week for 194 weeks from 05/21/2010 to 02/21/2014. \n",
    "\n",
    "The data are available to you as a *python data cube*. you can load it as \n",
    "\n",
    "```\n",
    "np.load(“MTA_Fare.npy\")\n",
    "```\n",
    "\n",
    "and you will end up with a python numpy array of \n",
    "shape (600, 23, 194)\n"
   ]
  },
  {
   "cell_type": "code",
   "execution_count": 4,
   "metadata": {},
   "outputs": [],
   "source": [
    "mtaRides[mtaRides == -1] = 0"
   ]
  },
  {
   "cell_type": "code",
   "execution_count": 5,
   "metadata": {},
   "outputs": [],
   "source": [
    "ridetype = np.array(['10t', '14d', '1d', '2t', '30d', '7d', 'ada', 'afas', 'exp','ez',\n",
    "            'ff','mc','mr','month','rfm','rr','sen','spec','tcmc','t',\n",
    "            'umlim','xbus','stud'])"
   ]
  },
  {
   "cell_type": "markdown",
   "metadata": {},
   "source": [
    "#### find the each station's each card type of weirdo day"
   ]
  },
  {
   "cell_type": "code",
   "execution_count": 34,
   "metadata": {},
   "outputs": [],
   "source": [
    "for i in range(599):\n",
    "    for j in range(22):\n",
    "        u = np.ndarray(shape = (600,23), order = (mtaRides[i,j,:].mean() - 3 * mtaRides[i,j,:].std()))"
   ]
  },
  {
   "cell_type": "code",
   "execution_count": 35,
   "metadata": {},
   "outputs": [],
   "source": [
    "arrays = [u for _ in range(194)]\n",
    "station_threshold = np.stack(arrays, axis=2)"
   ]
  },
  {
   "cell_type": "code",
   "execution_count": 36,
   "metadata": {
    "scrolled": true
   },
   "outputs": [],
   "source": [
    "for i in range(193):\n",
    "    op = mtaRides[:,:,i] * ((mtaRides[:,:,i] < station_threshold[:,:,i]))"
   ]
  },
  {
   "cell_type": "code",
   "execution_count": 93,
   "metadata": {},
   "outputs": [
    {
     "data": {
      "text/plain": [
       "(600, 23)"
      ]
     },
     "execution_count": 93,
     "metadata": {},
     "output_type": "execute_result"
    }
   ],
   "source": [
    "u.shape"
   ]
  },
  {
   "cell_type": "markdown",
   "metadata": {},
   "source": [
    "#### Stupid way to find each day"
   ]
  },
  {
   "cell_type": "code",
   "execution_count": 57,
   "metadata": {},
   "outputs": [],
   "source": [
    "for i in range(22):\n",
    "    for j in range(193):\n",
    "        subaway_0  = np.ndarray(shape = (23,194), order = mtaRides[0][i][j])"
   ]
  },
  {
   "cell_type": "code",
   "execution_count": 71,
   "metadata": {},
   "outputs": [
    {
     "data": {
      "text/plain": [
       "array([ 0.,  0.,  0.,  0.,  0.,  0.,  0.,  0.,  0.,  0.,  0.,  0.,  0.,\n",
       "        0.,  0.,  0.,  0.,  0.,  0.,  0.,  0.,  0.,  0.,  0.,  0.,  0.,\n",
       "        0.,  0.,  0.,  0.,  0.,  0.,  0.,  0.,  0.,  0.,  0.,  0.,  0.,\n",
       "        0.,  0.,  0.,  0.,  0.,  0.,  0.,  0.,  0.,  0.,  0.,  0.,  0.,\n",
       "        0.,  0.,  0.,  0.,  0.,  0.,  0.,  0.,  0.,  0.,  0.,  0.,  0.,\n",
       "        0.,  0.,  0.,  0.,  0.,  0.,  0.,  0.,  0.,  0.,  0.,  0.,  0.,\n",
       "        0.,  0.,  0.,  0.,  0.,  0.,  0.,  0.,  0.,  0.,  0.,  0.,  0.,\n",
       "        0.,  0.,  0.,  0.,  0.,  0.,  0.,  0.,  0.,  0.,  0.,  0.,  0.,\n",
       "        0.,  0.,  0.,  0.,  0.,  0.,  0.,  0.,  0.,  0.,  0.,  0.,  0.,\n",
       "        0.,  0.,  0.,  0.,  0.,  0.,  0.,  0.,  0.,  0.,  0.,  0.,  0.,\n",
       "        0.,  0.,  0.,  0.,  0.,  0.,  0.,  0.,  0.,  0.,  0.,  0.,  0.,\n",
       "        0.,  0.,  0.,  0.,  0.,  0.,  0.,  0.,  0.,  0.,  0.,  0.,  0.,\n",
       "        0.,  0.,  0.,  0.,  0.,  0.,  0.,  0.,  0.,  0.,  0.,  0.,  0.,\n",
       "        0.,  0.,  0.,  0.,  0.,  0.,  0.,  0.,  0.,  0.,  0.,  0.,  0.,\n",
       "        0.,  0.,  0.,  0.,  0.,  0.,  0.,  0.,  0.,  0.,  0.,  0.])"
      ]
     },
     "execution_count": 71,
     "metadata": {},
     "output_type": "execute_result"
    }
   ],
   "source": [
    "subaway_0[1]"
   ]
  },
  {
   "cell_type": "code",
   "execution_count": null,
   "metadata": {},
   "outputs": [],
   "source": [
    "for i in range(193):\n",
    "    k = np.ndarray(shape = (193), order = (mtaRides[i].mean() - 3 * mtaRides[i].std()))\n",
    "    #     T = np.ndarray(shape=(23,194) ,order= k )"
   ]
  },
  {
   "cell_type": "code",
   "execution_count": null,
   "metadata": {},
   "outputs": [],
   "source": [
    "for i in range(193):\n",
    "    event = mtaRides[i].mean() < k"
   ]
  },
  {
   "cell_type": "code",
   "execution_count": null,
   "metadata": {},
   "outputs": [],
   "source": [
    "i = []\n",
    "for i in range(193):\n",
    "    if(event[i] == True):\n",
    "        print (i)"
   ]
  },
  {
   "cell_type": "code",
   "execution_count": null,
   "metadata": {},
   "outputs": [],
   "source": [
    "mtaRides[:,:,1].shape"
   ]
  },
  {
   "cell_type": "code",
   "execution_count": null,
   "metadata": {},
   "outputs": [],
   "source": [
    "for i in range(194):\n",
    "    mtaRides[:,:,i]"
   ]
  },
  {
   "cell_type": "code",
   "execution_count": null,
   "metadata": {
    "scrolled": true
   },
   "outputs": [],
   "source": [
    "mtaRides[mtaRides[:,:,10]  <  station_threshold].shape"
   ]
  },
  {
   "cell_type": "code",
   "execution_count": null,
   "metadata": {},
   "outputs": [],
   "source": [
    "len(threshold)"
   ]
  },
  {
   "cell_type": "code",
   "execution_count": null,
   "metadata": {},
   "outputs": [],
   "source": [
    "mtaRides[:,3,:].mean()"
   ]
  },
  {
   "cell_type": "code",
   "execution_count": null,
   "metadata": {},
   "outputs": [],
   "source": [
    "stations_mean = mtaRides.mean(axis=(0))"
   ]
  },
  {
   "cell_type": "code",
   "execution_count": null,
   "metadata": {},
   "outputs": [],
   "source": [
    "stations_mean"
   ]
  },
  {
   "cell_type": "code",
   "execution_count": null,
   "metadata": {},
   "outputs": [],
   "source": [
    "station_std = mtaRides.std(axis=(0))"
   ]
  },
  {
   "cell_type": "code",
   "execution_count": null,
   "metadata": {},
   "outputs": [],
   "source": [
    "treshold = ( station_mean - 3 * station_std)"
   ]
  },
  {
   "cell_type": "code",
   "execution_count": null,
   "metadata": {},
   "outputs": [],
   "source": [
    "treshold.shape"
   ]
  },
  {
   "cell_type": "code",
   "execution_count": null,
   "metadata": {},
   "outputs": [],
   "source": [
    "\n",
    "mtaRides[:,:,i].shape"
   ]
  },
  {
   "cell_type": "code",
   "execution_count": null,
   "metadata": {},
   "outputs": [],
   "source": [
    "treshold[:,:].shape"
   ]
  },
  {
   "cell_type": "code",
   "execution_count": null,
   "metadata": {},
   "outputs": [],
   "source": [
    "i = []\n",
    "for i in range(193):\n",
    "    if((mtaRides[0,:,i] < treshold[:,i])).all():\n",
    "        i.append(i)\n",
    "        \n",
    "    \n",
    "\n",
    "    "
   ]
  },
  {
   "cell_type": "code",
   "execution_count": null,
   "metadata": {},
   "outputs": [],
   "source": [
    "i"
   ]
  },
  {
   "cell_type": "code",
   "execution_count": null,
   "metadata": {},
   "outputs": [],
   "source": [
    "3 * station_std"
   ]
  },
  {
   "cell_type": "code",
   "execution_count": null,
   "metadata": {},
   "outputs": [],
   "source": [
    "treshold"
   ]
  },
  {
   "cell_type": "code",
   "execution_count": null,
   "metadata": {},
   "outputs": [],
   "source": [
    "mtaRides[0,0,127]"
   ]
  },
  {
   "cell_type": "code",
   "execution_count": null,
   "metadata": {},
   "outputs": [],
   "source": [
    "len(mtaRides[0,0,:])"
   ]
  },
  {
   "cell_type": "code",
   "execution_count": null,
   "metadata": {
    "scrolled": true
   },
   "outputs": [],
   "source": [
    "for i in range(599):\n",
    "#     for i in range(22):\n",
    "        plt.plot(np.linspace(0,193, 194) ,mtaRides[i,0,:])"
   ]
  },
  {
   "cell_type": "code",
   "execution_count": null,
   "metadata": {},
   "outputs": [],
   "source": [
    "mtaRides[:,:,i]\n",
    "    "
   ]
  },
  {
   "cell_type": "code",
   "execution_count": null,
   "metadata": {},
   "outputs": [],
   "source": []
  },
  {
   "cell_type": "code",
   "execution_count": null,
   "metadata": {
    "scrolled": true
   },
   "outputs": [],
   "source": [
    "i = []\n",
    "for i in range (mtaRides.shape[2]):\n",
    "    if((mtaRides[:,:,i] < (station_mean - 3 * station_std)).all()):\n",
    "        i.append(i)\n",
    "print (i)   \n",
    "    \n"
   ]
  },
  {
   "cell_type": "markdown",
   "metadata": {},
   "source": [
    "#### 193 week from 05/21/2010"
   ]
  },
  {
   "cell_type": "code",
   "execution_count": null,
   "metadata": {},
   "outputs": [],
   "source": []
  },
  {
   "cell_type": "markdown",
   "metadata": {},
   "source": [
    "## Task 2: \n",
    "### Some of the time series are stationary, some have a complex structure, some show a downward trend: Identify the **ridership types**  that have steadily increased in popularity,  and that have steadily decreased. by how much? (e.g what is the ratio of usage in the first 10 and last 10 weeks)\n",
    "\n",
    "\n",
    "## Task 3:\n",
    "### Several stations show a prominent annual periodicity. Identify the 4 **stations** (indentify them by the index of their location in the data cube) that show the most prominent periodic trend on an annual period (52 weeks). (Can you figure out what the periodic peak in rides is due to?)\n",
    "\n",
    "\n",
    "## EXTRA CREDIT: Cluster. \n",
    "### Cluster the time series, i.e. identify groups of time series that look similar among each other. You can use KMeans for example to identify common trends, or PCA (Principle Component Analysis). \n",
    "### Since this is extra credit I will leave it to you to figure out the details, but for KMeans for e.g. if you use the sklearn.cluster package it would look something like:\n",
    "\n",
    "i am flattening the first 2 dimensions of the cube to cluster all light curves for all stations and all types\n",
    "\n",
    "```\n",
    "tots = data.transpose(2,0,1).reshape(data.shape[2], data.shape[1]*data.shape[0]).T\n",
    "```\n",
    "\n",
    "removing empty light curves\n",
    "\n",
    "```\n",
    "tots = tots[tots.std(1)>0]\n",
    "```\n",
    "\n",
    "with Kmeans you have to choose the number of clusters ahead km = \n",
    "\n",
    "```\n",
    "KMeans(n_clusters=10)\n",
    "```\n",
    "\n",
    "and standardize the lightcurves before clustering. Notice: standardize, not whiten! If you have done clustering before you may have whitened the data: removed the variance by \"column\", here you want to remove the variance by \"row\". We will discuss this in the clustering lecture. \n",
    "```\n",
    "vals = ((tots.T - tots.mean(1))/tots.std(1)).T\n",
    "```\n",
    "\n",
    "then you can run:\n",
    "\n",
    "```\n",
    "km.fit(vals)\n",
    "```"
   ]
  },
  {
   "cell_type": "markdown",
   "metadata": {},
   "source": [
    "# HINTS: \n",
    "\n",
    "## notes and hints: \n",
    "\n",
    "   1) you could coerce the data into a pandas dataframe, but the data is truly a \"datacube\": a 3D dataset, and flattening it into a pandas dataframe will make it far more difficult to manipulate. I strongly recommand you keep it as a numpy array\n",
    "    \n",
    "   2) note that the missing values are inputted as -1. if you want to do things like algebra (summing time series for example) you need to take care of that. If you replace the -1 entries with NaN, you may need to use functions that explicitly know how to deal with NaN: for example, to sum use the np.nansum etc\n",
    "```\n",
    "np.nanmean(mtarides)\n",
    "np.nansum(mtarides)\n",
    "```\n",
    "as opposed to just \n",
    "```\n",
    "np.mean(mtarides)\n",
    "np.sum(mtarides)\n",
    "```\n",
    " \n",
    "## There are 600 stations, 23 card types. The trick to do this homework succesfully is to \"collaps\" (by averaging, or summing, depending on the question) the appropriate dimension in different parts of the homework: when you need to work at the station level (if I ask \"which station is the one that...\"), collaps the card type, when you need to work on the card type, collapse the stations. \n",
    "\n",
    "When I ask you \"which station ...\", you can sum or average over the ridership types for all station and reduce your data by a factor 23. When I ask you \"which rideship type ...\" you can sum or average over the stations and reduce your data by a factor 600! (or even better you could take a weighted average - *np.average(....weight=...)* -. The sum and average functions take an *axis* argument, which allows you to control which axis of the cube gets averaged. The dimension of the resulting object will allow you to check that you averaged over the right axis.\n",
    "\n",
    "\n",
    "# Possibly useful functions\n",
    "\n",
    "You are already familiar with and have already used  most of the functions I needed to perform this exercise. Here are some reminders and on few functions and methods that you may not have encountered yet which may be useful. You do not have to use them: there are many ways to do things and you do not have to solve this problem like I did, but here they are in case you need some help:\n",
    "\n",
    "* the numpy function np.where() returns the index where a condition is true. It is slow and inefficient but very intuitive and convenient\n",
    "\n",
    "\n",
    "* the nupy functions np.nansum(), np.sum(), np.nanmean() etc take an array and the axis along which to sum as inputs. If you want to sum over stations, or over rides, you can use these passing the appropriate axis number: axis=1 axis=2...\n",
    "\n",
    "\n",
    "* to find periodicity you can use fourier transforms. Look at the notebook on fourier transforms in https://github.com/fedhere/UInotebooks/tree/master/timeseries. If you choose to use the numpy package you may want to use the real fft function:  np.fft.rfft()  \n",
    "\n",
    "```\n",
    "np.fft.rfft(mydata) \n",
    "```  \n",
    "\n",
    "      will return the *real* part of the fourier transform (the fourier transform is a *complex* object, and therefore it has a real and an *imaginary* component - that is just math; all you need to know is that you need the real part). But what you want is its absolute value: np.abs(). \n",
    "      To plot the fourier transform you may want the x-axis to be in frequency. To get the x-axis of your plot in frequency (1/week since the data is in weeks) you can use the function \n",
    "\n",
    "```\n",
    "np.fft.rfftfreq(N, d) \n",
    "```     \n",
    "     which takes as arguments N = the length of your time series (the number of datapoints) and d: the *sample spacing*, or 1.0/sampling_rate (in this case, with 1/week sampling, if you want the freq in units of week that is just 1!)\n",
    "\n",
    "\n",
    "*  the array methods \n",
    "```\n",
    "np.array.flatten()\n",
    "np.array.reshape()\n",
    "```\n",
    "     allow you to manipulate the shape of an array, for example if you want to run analysis on each individual time series, each station and each ridership type, which I recommand if you want to work on clustering for extra credit (resulting into 600*23=13800 time series) you can flatten the array as\n",
    "     \n",
    "```\n",
    "mtaarray.flatten()\n",
    "```\n",
    "\n",
    "    which returns the flatten array:\n",
    "\n",
    "```\n",
    "mtaRides = np.load(\"MTA_Fare.npy\")\n",
    "\n",
    "mtaRides.shape\n",
    "Out[10]: (600, 23, 194)\n",
    "\n",
    "mtaRides.flatten().shape\n",
    "Out[11]: (2677200,)\n",
    "````"
   ]
  },
  {
   "cell_type": "markdown",
   "metadata": {},
   "source": [
    "*  after you operate on the array to collapse an axis, always check the dimensionality to assure you have indeed collapsed the right axis! see cell below\n",
    "\n",
    "```\n",
    "import numpy as np\n",
    "data = np.random.rand(100,10)\n",
    "\n",
    "print(data.shape)\n",
    "Out[12]: (100, 10)\n",
    "\n",
    "print(data.mean())\n",
    "Out[13]:  0.4902457782\n",
    "\n",
    "print(data.mean(axis=0).shape, data.mean(axis=1).shape)\n",
    "Out[14]: (10,) (100,)\n",
    "\n",
    "```"
   ]
  },
  {
   "cell_type": "markdown",
   "metadata": {},
   "source": []
  },
  {
   "cell_type": "code",
   "execution_count": null,
   "metadata": {},
   "outputs": [],
   "source": []
  },
  {
   "cell_type": "code",
   "execution_count": null,
   "metadata": {},
   "outputs": [],
   "source": [
    "#after reading the datacube you should see:\n",
    "mtaRides.shape\n"
   ]
  },
  {
   "cell_type": "markdown",
   "metadata": {},
   "source": [
    "ride types list"
   ]
  },
  {
   "cell_type": "code",
   "execution_count": null,
   "metadata": {},
   "outputs": [],
   "source": [
    "ridetype = np.array(['10t', '14d', '1d', '2t', '30d', '7d', 'ada', 'afas', 'exp','ez',\n",
    "            'ff','mc','mr','month','rfm','rr','sen','spec','tcmc','t',\n",
    "            'umlim','xbus','stud'])"
   ]
  },
  {
   "cell_type": "code",
   "execution_count": null,
   "metadata": {},
   "outputs": [],
   "source": [
    "mtaRides"
   ]
  },
  {
   "cell_type": "code",
   "execution_count": null,
   "metadata": {},
   "outputs": [],
   "source": []
  },
  {
   "cell_type": "code",
   "execution_count": null,
   "metadata": {},
   "outputs": [],
   "source": []
  },
  {
   "cell_type": "code",
   "execution_count": null,
   "metadata": {},
   "outputs": [],
   "source": []
  },
  {
   "cell_type": "code",
   "execution_count": null,
   "metadata": {},
   "outputs": [],
   "source": []
  },
  {
   "cell_type": "code",
   "execution_count": null,
   "metadata": {},
   "outputs": [],
   "source": []
  },
  {
   "cell_type": "code",
   "execution_count": null,
   "metadata": {},
   "outputs": [],
   "source": [
    "#after that I create a date range (for example with pd.date_range())\n",
    "#in a log plot to enhance the visibility along the y axis (np.log10(weightedrides[i]))\n",
    "#all time series, each station each ride type, look like this (pretty ugly)"
   ]
  },
  {
   "cell_type": "code",
   "execution_count": null,
   "metadata": {},
   "outputs": [],
   "source": []
  },
  {
   "cell_type": "code",
   "execution_count": null,
   "metadata": {},
   "outputs": [],
   "source": []
  },
  {
   "cell_type": "code",
   "execution_count": null,
   "metadata": {},
   "outputs": [],
   "source": [
    "#as described in the instruction for some of the analysis \n",
    "#one can sum time series for all stations\n",
    "print (mtaRide.shape)\n",
    "mta_allsum = np.nansum(mtaRides, axis=0)\n",
    "print (mta_allsum.shape)\n",
    "#or for all ride types\n",
    "mta_allsum = np.nansum(mtaRides, axis=1)\n",
    "print (mta_allsum.shape)\n",
    "\n"
   ]
  },
  {
   "cell_type": "markdown",
   "metadata": {},
   "source": [
    "## NOTE ON THE TREND DETECTION:\n",
    "### you should find the *card type* that has the steepest increase, and the steepest decrease. Notice: we are looking for something that has a more or less constant trend\n",
    "\n",
    "### to do this you can sum or average (a weighted average is probably best) over all stations, leaving you with 23 time series, one per ridership type. \n",
    "\n",
    "### you can use a rolling mean for smoothing (pd.rolling_mean() for example), and you can calculate the ratio of the *number of rides* near the beginning to the *number of rides* near the end of the time series.\n",
    "\n",
    "### notice that you should inspect the time series, algorithmically or at least by eye, to ensure you see a trend, and not just changing structure. Below is an example of a lightcurve with structure (top) and a lightcurve with a constant trend (bottom) both showing a large deviation between the beginning and the end of the time series"
   ]
  },
  {
   "cell_type": "code",
   "execution_count": null,
   "metadata": {},
   "outputs": [],
   "source": []
  },
  {
   "cell_type": "markdown",
   "metadata": {},
   "source": [
    "to determine if there is a trend or strucutre you can inspect the time series visually, since there are only 23!\n",
    "an alternative, algorithmic way to do it, is to fit a line to the (smoothed) time series  and look at the residuals."
   ]
  },
  {
   "cell_type": "code",
   "execution_count": null,
   "metadata": {
    "scrolled": true
   },
   "outputs": [],
   "source": [
    "#here is an example of an individual time series that shows a trend, \n",
    "#after smoothing by 3 and 10 weeks"
   ]
  },
  {
   "cell_type": "code",
   "execution_count": null,
   "metadata": {
    "scrolled": false
   },
   "outputs": [],
   "source": [
    "# this is a \"power spectrum\": the plot of the absolute value of the fourier transform. \n",
    "# I changed the xtick labels from frequecy (1/week) to period (in weeks)\n",
    "# to facilitate the visual identification of the 1-year period peak\n",
    "# (notice however that np.fft.rfftfreq(N, d)  returns frequency, the inverse of the period: frequency = 1/period. \n",
    "# All I did was changing the tick labels): \n",
    "\n",
    "...\n",
    "ax.set_xticklabels([ \"%s\"%(1/f) for f in allperiods], rotation=90)"
   ]
  },
  {
   "cell_type": "code",
   "execution_count": null,
   "metadata": {},
   "outputs": [],
   "source": [
    "#and here is one of he periodic time series you should find by identifying the time series with the most power \n",
    "#at 1/52 weeks frequency in fourier space"
   ]
  }
 ],
 "metadata": {
  "kernelspec": {
   "display_name": "PUI2016_Python3",
   "language": "python",
   "name": "pui2016_python3"
  },
  "language_info": {
   "codemirror_mode": {
    "name": "ipython",
    "version": 3
   },
   "file_extension": ".py",
   "mimetype": "text/x-python",
   "name": "python",
   "nbconvert_exporter": "python",
   "pygments_lexer": "ipython3",
   "version": "3.5.4"
  }
 },
 "nbformat": 4,
 "nbformat_minor": 1
}
